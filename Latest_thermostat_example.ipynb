{
 "cells": [
  {
   "cell_type": "markdown",
   "metadata": {},
   "source": [
    "# Import packages"
   ]
  },
  {
   "cell_type": "code",
   "execution_count": 1,
   "metadata": {},
   "outputs": [],
   "source": [
    "#Sampling and GSA\n",
    "from SALib.sample import saltelli\n",
    "from SALib.analyze import sobol\n",
    "import sobol_seq\n",
    "import ghalton\n",
    "from pyDOE import *\n",
    "#Plot\n",
    "import matplotlib.pyplot as plt\n",
    "import matplotlib.patches as mpatches\n",
    "#Deal with array and matrix\n",
    "import numpy as np \n",
    "#Read csv\n",
    "import csv\n",
    "import pandas as pd\n",
    "import xlsxwriter\n",
    "#remove file\n",
    "import os"
   ]
  },
  {
   "cell_type": "markdown",
   "metadata": {},
   "source": [
    "# Definition"
   ]
  },
  {
   "cell_type": "markdown",
   "metadata": {},
   "source": [
    "### Defintion for simulation sampling"
   ]
  },
  {
   "cell_type": "code",
   "execution_count": 2,
   "metadata": {},
   "outputs": [],
   "source": [
    "#Defination\n",
    "#Simulation\n",
    "num = 4\t\t#Number of variables. e.g. 3\n",
    "num_samples_simulation = 2000\t #Number of samples for simulation e.g. 100\n",
    "method = 'latin'\t\t#Method for input simulation sampling,'sobol','halton' or 'latin'\n",
    "\n",
    "skip = '' \t\t#For sobol method, default='', e.g. 3\n",
    "seed = ''\t\t#For halton method, default='', e.g. 3\n",
    "latin_criterion = 'default'\t\t#For latin_hypercube method, default='default'. Alternatives: 'center','maximin','centermaximin','correlation'\n",
    "\n",
    "#Define variables\n",
    "variablenames = ['Gap','Width of Strip','Length of Strip','Material Coefficient']\t\t\n",
    "bounds = [[2.216,2.474],[0.449,0.452],[33.990,34.010],[6.88e-06,7.46e-06]] \t \n",
    "\n",
    "#File name for fit surface result\n",
    "Filename_simulation_sampling = 'input.csv'"
   ]
  },
  {
   "cell_type": "markdown",
   "metadata": {},
   "source": [
    "### Definition for run simulation  "
   ]
  },
  {
   "cell_type": "code",
   "execution_count": 3,
   "metadata": {
    "scrolled": true
   },
   "outputs": [],
   "source": [
    "#Names of output\n",
    "names = ['Iron Temperature']\n"
   ]
  },
  {
   "cell_type": "markdown",
   "metadata": {},
   "source": [
    "### Definition for cross validation"
   ]
  },
  {
   "cell_type": "code",
   "execution_count": 4,
   "metadata": {},
   "outputs": [],
   "source": [
    "k_fold = 10 \t#For k-fold cross-validation\n",
    "#File name for fit surface result\n",
    "Filename_fit_surface = 'output_GSA.csv'"
   ]
  },
  {
   "cell_type": "markdown",
   "metadata": {},
   "source": [
    "### Definition for GSA samples"
   ]
  },
  {
   "cell_type": "code",
   "execution_count": 5,
   "metadata": {},
   "outputs": [
    {
     "name": "stdout",
     "output_type": "stream",
     "text": [
      "You have finnished the basic definition \n",
      "You still need to continue with defining surrogate model and cross validation model later\n"
     ]
    }
   ],
   "source": [
    "#saltelli\n",
    "saltelli_second_order = False \n",
    "#Number of saltelli samples for GSA e.g. 500. When second_order is false,num_samples_saltelli/(num+2) should be integer, else num_samples_saltelli/(2*num+2) should be integer\n",
    "num_samples_saltelli = 6000\t\t\n",
    "#Save saltelli samples\n",
    "Save_saltelli_samples= True\n",
    "\n",
    "File_result = 'result.xlsx'\n",
    "sample_values={}\n",
    "print('You have finnished the basic definition \\nYou still need to continue with defining surrogate model and cross validation model later')"
   ]
  },
  {
   "cell_type": "markdown",
   "metadata": {},
   "source": [
    "# Generate simulation samples"
   ]
  },
  {
   "cell_type": "code",
   "execution_count": 6,
   "metadata": {},
   "outputs": [
    {
     "name": "stdout",
     "output_type": "stream",
     "text": [
      "You have written simulation samples to input.csv\n"
     ]
    }
   ],
   "source": [
    "from scipy.stats import norm\n",
    "bounds_mean= []\n",
    "sigma=[]\n",
    "for i in range(num):\n",
    "    sigma.append((bounds[i][1]-bounds[i][0])/6)\n",
    "#sampling\n",
    "if method == 'sobol':\n",
    "#Sobol\n",
    "\tif skip != '' :\n",
    "\t\tskip = int(skip)\n",
    "\t\tvec = sobol_seq.i4_sobol_generate(num,num_samples_simulation,skip)\n",
    "\t\tfor i in range(num):\n",
    "\t\t\tsample_values[variablenames[i]]=list(vec[:,i])\n",
    "\telse:\n",
    "\t\tskip = 0\n",
    "\t\tvec = sobol_seq.i4_sobol_generate(num,num_samples_simulation)\n",
    "\t\tfor i in range(num):\n",
    "\t\t\tsample_values[variablenames[i]]=list(vec[:,i])\n",
    "\tfor i in range(num):\n",
    "\t\tbounds_mean.append((bounds[i][0]+bounds[i][1])/2)  \n",
    "\t\tsample_values[variablenames[i]]= norm.ppf(sample_values[variablenames[i]],loc=bounds_mean[i],scale=sigma[i])\n",
    "\twith open(Filename_simulation_sampling,'w',newline='') as f:\n",
    "\t\twriter = csv.writer(f)\n",
    "\t\twriter.writerow(['method',method,'num variables',num,'num samples',num_samples_simulation,'skip property',skip])\n",
    "\t\twriter.writerow(sample_values.keys())\n",
    "\t\twriter.writerows(zip(*sample_values.values()))\n",
    "\n",
    "#Halton\n",
    "elif method == 'halton':\n",
    "\tif seed != '' :\t\n",
    "\t\tseed = int(seed)\n",
    "\t\tsequencer = ghalton.GeneralizedHalton(num,seed)\n",
    "\t\tpoints = sequencer.get(num_samples_simulation)\n",
    "\t\tfor i in range(num):\n",
    "\t\t\tsample_values[variablenames[i]]=np.array(points)[:,i]\n",
    "\telse:\n",
    "\t\tsequencer = ghalton.GeneralizedHalton(num)\n",
    "\t\tpoints = sequencer.get(num_samples_simulation)\n",
    "\t\tfor i in range(num):\n",
    "\t\t\tsample_values[variablenames[i]]=np.array(points)[:,i]\n",
    "\tfor i in range(num):\n",
    "\t\tbounds_mean.append((bounds[i][0]+bounds[i][1])/2)  \n",
    "\t\tsample_values[variablenames[i]]= norm.ppf(sample_values[variablenames[i]],loc=bounds_mean[i],scale=sigma[i])\n",
    "\twith open(Filename_simulation_sampling,'w',newline='') as f:\n",
    "\t\twriter = csv.writer(f)\n",
    "\t\twriter.writerow(['method',method,'num variables',num,'num samples',num_samples_simulation,'seed',seed])\n",
    "\t\twriter.writerow(sample_values.keys())\n",
    "\t\twriter.writerows(zip(*sample_values.values()))\n",
    "\n",
    "#Latin hypercube\n",
    "elif method == 'latin':\n",
    "\tif latin_criterion == 'default':\n",
    "\t\tlatin = lhs(num, samples=num_samples_simulation)\n",
    "\t\tfor i in range(num):\n",
    "\t\t\tsample_values[variablenames[i]]=list(latin[:,i])\n",
    "\telse:\n",
    "\t\tlatin = lhs(num, samples=num_samples_simulation,criterion=latin_criterion)\n",
    "\t\tfor i in range(num):\n",
    "\t\t\tsample_values[variablenames[i]]=list(latin[:,i])\n",
    "\tfor i in range(num):\n",
    "\t\tbounds_mean.append((bounds[i][0]+bounds[i][1])/2)  \n",
    "\t\tsample_values[variablenames[i]]= norm.ppf(sample_values[variablenames[i]],loc=bounds_mean[i],scale=sigma[i])\n",
    "\twith open(Filename_simulation_sampling,'w',newline='') as f:\n",
    "\t\twriter = csv.writer(f)\n",
    "\t\twriter.writerow(['method',method,'num variables',num,'num samples',num_samples_simulation,'criterion',latin_criterion])\n",
    "\t\twriter.writerow(sample_values.keys())\n",
    "\t\twriter.writerows(zip(*sample_values.values()))\n",
    "else:\n",
    "\tprint('Please type the correct method name !(sobol/halton/latin)')\t\t\n",
    "\n",
    "print('You have written simulation samples to '+str(Filename_simulation_sampling))"
   ]
  },
  {
   "cell_type": "markdown",
   "metadata": {},
   "source": [
    "# Run simulation"
   ]
  },
  {
   "cell_type": "code",
   "execution_count": 7,
   "metadata": {},
   "outputs": [
    {
     "name": "stdout",
     "output_type": "stream",
     "text": [
      "You have written simulation samples and run simulation reslut to input.csv\n"
     ]
    }
   ],
   "source": [
    "#Formula for run simulation\n",
    "sample_values['Iron Temperature'] = 25 +(np.asarray(sample_values[variablenames[0]]) *np.asarray(sample_values[variablenames[1]]))/(np.asarray(sample_values[variablenames[2]])*np.asarray(sample_values[variablenames[2]])*np.asarray(sample_values[variablenames[3]]))#simulation function\n",
    "\n",
    "if method == 'sobol':\n",
    "\twith open(Filename_simulation_sampling,'w',newline='') as f:\n",
    "\t\twriter = csv.writer(f)\n",
    "\t\twriter.writerow(['method',method,'num variables',num,'num samples',num_samples_simulation,'skip property',skip])\n",
    "\t\twriter.writerow(sample_values.keys())\n",
    "\t\twriter.writerows(zip(*sample_values.values()))\n",
    "elif method == 'halton':\n",
    "\twith open(Filename_simulation_sampling,'w',newline='') as f:\n",
    "\t\twriter = csv.writer(f)\n",
    "\t\twriter.writerow(['method',method,'num variables',num,'num samples',num_samples_simulation,'seed',seed])\n",
    "\t\twriter.writerow(sample_values.keys())\n",
    "\t\twriter.writerows(zip(*sample_values.values()))\n",
    "elif method == 'latin':\n",
    "\twith open(Filename_simulation_sampling,'w',newline='') as f:\n",
    "\t\twriter = csv.writer(f)\n",
    "\t\twriter.writerow(['method',method,'num variables',num,'num samples',num_samples_simulation,'criterion',latin_criterion])\n",
    "\t\twriter.writerow(sample_values.keys())\n",
    "\t\twriter.writerows(zip(*sample_values.values()))\n",
    "        \n",
    "print('You have written simulation samples and run simulation reslut to '+str(Filename_simulation_sampling))"
   ]
  },
  {
   "cell_type": "markdown",
   "metadata": {},
   "source": [
    "# Fit_surface"
   ]
  },
  {
   "cell_type": "markdown",
   "metadata": {},
   "source": [
    "### GSA sampling"
   ]
  },
  {
   "cell_type": "code",
   "execution_count": 8,
   "metadata": {},
   "outputs": [
    {
     "name": "stdout",
     "output_type": "stream",
     "text": [
      "You have generated GSA samples and save it to Saltelli_samples.csv\n"
     ]
    }
   ],
   "source": [
    "problem={\n",
    "'num_vars':num,'names':variablenames,'bounds':bounds\n",
    "} \n",
    "if saltelli_second_order == False:\n",
    "\tparam_values_GSA = saltelli.sample(problem,int(int(num_samples_saltelli)/(num+2)),calc_second_order=False)  \n",
    "elif saltelli_second_order == True:\n",
    "\tparam_values_GSA = saltelli.sample(problem,int(int(num_samples_saltelli)/(2*num+2)),calc_second_order=True) \n",
    "samples_GSA = {}\n",
    "input_interpolation_data = pd.read_csv(Filename_simulation_sampling,header=1)\n",
    "param_values=[[]for i in range(len(variablenames))]\n",
    "input_interpolation_variables = [[]for i in range(len(variablenames)+1)]\n",
    "for i in range(len(variablenames)):\n",
    "\tparam_values[i]=param_values_GSA[:,i]\n",
    "\tinput_interpolation_variables[i] = input_interpolation_data[variablenames[i]].iloc[:num_samples_simulation]\n",
    "\n",
    "if Save_saltelli_samples == True:\n",
    "\tsaltelli_samples={}\n",
    "\tfor i in range(num):\n",
    "\t\tsaltelli_samples[variablenames[i]]=list(param_values_GSA[:,i])\n",
    "# get result seperately in csv file\n",
    "\twith open('Saltelli_samples.csv','w',newline='') as f:\n",
    "\t\twriter = csv.writer(f)\n",
    "\t\twriter.writerow(saltelli_samples.keys())\n",
    "\t\twriter.writerows(zip(*saltelli_samples.values()))\n",
    "\n",
    "if Save_saltelli_samples == True:\n",
    "    print('You have generated GSA samples and save it to Saltelli_samples.csv')\n",
    "else:\n",
    "    print('You have generated GSA samples')"
   ]
  },
  {
   "cell_type": "markdown",
   "metadata": {},
   "source": [
    "## Linear regression"
   ]
  },
  {
   "cell_type": "code",
   "execution_count": 9,
   "metadata": {},
   "outputs": [
    {
     "data": {
      "image/png": "[encoded data removed]",
      "text/plain": [
       "<Figure size 432x288 with 1 Axes>"
      ]
     },
     "metadata": {},
     "output_type": "display_data"
    }
   ],
   "source": [
    "#Linear regression\n",
    "samples_GSA_LP={}\n",
    "from sklearn import linear_model\n",
    "\n",
    "def linear_regression_k_fold(X,y,k_fold,num,names_result):\n",
    "\tGSA_linear_regression = linear_model.LinearRegression()\n",
    "\tlinear_result=[]\n",
    "\tx_linear = [[]for i in range(num_samples_simulation)]\n",
    "\tfor i in range(len(variablenames)):\n",
    "\t\tz = X[variablenames[i]]\n",
    "\t\tfor j in range(num_samples_simulation):\n",
    "\t\t\tx_linear[j].append(z[j])\n",
    "\tsubset_size = int(num_samples_simulation / k_fold)\n",
    "\tfor k in range(k_fold):\n",
    "\t\t#Get X train data\n",
    "\t\tX_train = x_linear[:k * subset_size] +  x_linear[(k + 1) * subset_size:]\n",
    "\t\tX_train = np.array(X_train,dtype='float')\n",
    "\n",
    "\t\ty = np.array(y,dtype='float').tolist()\n",
    "\t\ty_train = y[:k * subset_size] + y[(k + 1) * subset_size:]     \n",
    "        #Get train Linear Regression model\n",
    "\t\ttrain_linear = GSA_linear_regression.fit(X_train,y_train)\n",
    "\n",
    "        #Get valid data\n",
    "\t\tX_valid =  x_linear[k * subset_size:][:subset_size]\n",
    "\t\tX_valid = np.array(X_valid,dtype='float')\n",
    "        #Get valid result\n",
    "\t\tlinear_valid_result = GSA_linear_regression.predict(X_valid).tolist()\n",
    "\t\tlinear_result = linear_result+ linear_valid_result\n",
    "\tlinear_result = np.array(linear_result,dtype='float')\n",
    "\n",
    "\t\n",
    "\t#Calculate RMSE\n",
    "\trmse = round(np.sqrt(((linear_result-y)**2).mean()),3)\n",
    "    #Calculate r square\n",
    "\ty_bar = np.sum(y)/len(y)  \t\t#Calculate the mean of y\n",
    "\tSSR = np.sum((linear_result-y_bar)**2)   # or sum([ (yihat - ybar)**2 for yihat in yhat])\n",
    "\tsstot = np.sum((y-y_bar)**2)    # or sum([ (yi - ybar)**2 for yi in y])\n",
    "\tr_square = round(SSR / sstot,3)\n",
    "\n",
    "\n",
    "\t#Plot scatter graph\n",
    "\tplt.figure('k-fold method')\n",
    "\tplt.scatter(y,linear_result,c='r',cmap=plt.cm.coolwarm,zorder=2,s=6)\n",
    "\tplt.xlabel('Samples values')\n",
    "\tplt.ylabel('LinearRegression values')\n",
    "\tplt.title('K-folds method for LinearRegression_'+str(names_result))\n",
    "\tr_square_patch = mpatches.Patch(color='red',label='r_square: %s'%r_square)\n",
    "\trmse_patch = mpatches.Patch(color='blue',label='RMSE: %s'%rmse )\n",
    "\tplt.legend(handles=[r_square_patch,rmse_patch],loc=0,fontsize = 'x-small')\n",
    "\t#Plot y=x \n",
    "\tlims = [np.min([plt.gca().get_xlim(),plt.gca().get_ylim()]),np.max([plt.gca().get_xlim(),plt.gca().get_ylim()])] #plt.gca().get_ylim() get lim in y axis\n",
    "\tplt.plot(lims,lims,alpha=0.75)\n",
    "\n",
    "\t#Create text for r_square and RMSE\n",
    "\tplt.tight_layout()\n",
    "\tplt.show()\n",
    "\tplt.close()\n",
    "\n",
    "y = [[]for i in range(len(names))]\n",
    "for i in range(len(names)):\n",
    "\ty[i] = input_interpolation_data[names[i]].iloc[:num_samples_simulation]\n",
    "\tlinear_regression_k_fold(sample_values,y[i],k_fold,num,names[i])\n",
    "\n",
    "for i in range(len(names)):\n",
    "\tinput_interpolation_variables[len(variablenames)] = y[i]\n",
    "\tx_linear = [[]for i in range(num_samples_simulation)]\n",
    "\tfor k in range(len(variablenames)):\n",
    "\t\tz = input_interpolation_data[variablenames[k]].tolist()\n",
    "\t\tfor j in range(num_samples_simulation):\n",
    "\t\t\tx_linear[j].append(z[j])\n",
    "\tmodel = linear_model.LinearRegression()\n",
    "\tmodel.fit(x_linear,y[i])\n",
    "\tsamples_GSA_LP[names[i]] = model.predict(param_values_GSA)\n"
   ]
  },
  {
   "cell_type": "markdown",
   "metadata": {},
   "source": [
    "## Support vector regression"
   ]
  },
  {
   "cell_type": "markdown",
   "metadata": {},
   "source": [
    "## Find the best parameters"
   ]
  },
  {
   "cell_type": "code",
   "execution_count": 10,
   "metadata": {},
   "outputs": [],
   "source": [
    "#from sklearn.svm import SVR\n",
    "#from sklearn.model_selection import GridSearchCV\n",
    "#x_SVR = [[]for i in range(num_samples_simulation)]\n",
    "#for i in range(len(variablenames)):\n",
    " #   z = sample_values[variablenames[i]]\n",
    "  #  for j in range((num_samples_simulation)):\n",
    "   #     x_SVR[j].append(z[j])\n",
    "#svr = GridSearchCV(SVR(kernel='poly'), cv=5,param_grid={\"C\": [1e0,1e1],\"degree\": [1e0,5, 1e1],\"gamma\": [1,0.1,0.01]})\n",
    "#svr.fit(x_SVR,np.array(y[0],dtype='float'))\n",
    "#print(\"The best parameters are %s with a score of %0.2f\"\n",
    " #     % (svr.best_params_, svr.best_score_))"
   ]
  },
  {
   "cell_type": "code",
   "execution_count": null,
   "metadata": {},
   "outputs": [],
   "source": [
    "from sklearn import svm\n",
    "samples_GSA_SVR={}\n",
    "#SVR for k-fold cross validation\n",
    "K_fold_SVR = svm.SVR(C=1, coef0=0.0, degree=3, gamma='auto',kernel='poly') \n",
    "\t#kernel = 'linear','rbf','poly','sigmoid,'precomputed'. default 'rbf'\n",
    "\n",
    "def SVR_generator_k_fold(X,y,k_fold,num,names_result):\n",
    "\tSVR_result=[]\n",
    "\t#Convert nd.array to list (Once the array is created, th size can't be changed)\n",
    "\tx_SVR = [[]for i in range(num_samples_simulation)]\n",
    "\tfor i in range(len(variablenames)):\n",
    "\t\tz = X[variablenames[i]]\n",
    "\t\tfor j in range((num_samples_simulation)):\n",
    "\t\t\tx_SVR[j].append(z[j])\n",
    "\tsubset_size = int(num_samples_simulation / k_fold)\n",
    "\t\t#Get X train data\n",
    "\tfor k in range(k_fold):\n",
    "\t\tX_train = x_SVR[:k * subset_size] +  x_SVR[(k + 1) * subset_size:]\n",
    "\t\tX_train = np.array(X_train,dtype='float')\n",
    "\n",
    "\t\t#Get y train data\n",
    "\t\ty = np.array(y,dtype='float').tolist()\n",
    "\t\ty_train = y[:k * subset_size] + y[(k + 1) * subset_size:]     \n",
    "\t\t#Get train SVR model\n",
    "\t\tK_fold_SVR.fit(X_train,y_train)\n",
    "\n",
    "\t\t#Get valid data\n",
    "\t\tX_valid =  x_SVR[k * subset_size:][:subset_size]\n",
    "\t\tX_valid = np.array(X_valid,dtype='float')\n",
    "\n",
    "\t\t#Get valid result\n",
    "\t\tSVR_valid_result = K_fold_SVR.predict(X_valid).tolist()\n",
    "\t\tSVR_result = SVR_result+ SVR_valid_result\n",
    "\n",
    "\tSVR_result = np.array(SVR_result,dtype='float')\n",
    "\t#Calculate RMSE\n",
    "\trmse = round(np.sqrt(((SVR_result-y)**2).mean()),3) \n",
    "\t#Calculate r square\n",
    "\ty_bar = np.sum(y)/len(y)  \t\t#Calculate the mean of y\n",
    "\tSSR = np.sum((SVR_result-y_bar)**2)   # or sum([ (yihat - ybar)**2 for yihat in yhat])\n",
    "\tsstot = np.sum((y-y_bar)**2)    # or sum([ (yi - ybar)**2 for yi in y])\n",
    "\tr_square = round(SSR / sstot,3)\n",
    "    \n",
    "\t#Plot scatter graph\n",
    "\tplt.figure('k-fold method')\n",
    "\tplt.scatter(y,SVR_result,c='r',cmap=plt.cm.coolwarm,zorder=2,s=6)\n",
    "\tplt.xlabel('Samples values')\n",
    "\tplt.ylabel('SVR values')\n",
    "\tplt.title('K-folds method for SVR_'+str(names_result))\n",
    "\tr_square_patch = mpatches.Patch(color='red',label='r_square: %s'%r_square)\n",
    "\trmse_patch = mpatches.Patch(color='blue',label='RMSE: %s'%rmse )\n",
    "\tplt.legend(handles=[r_square_patch,rmse_patch],loc=0,fontsize = 'x-small')\n",
    "\t#Plot y=x \n",
    "\tlims = [np.min([plt.gca().get_xlim(),plt.gca().get_ylim()]),np.max([plt.gca().get_xlim(),plt.gca().get_ylim()])] #plt.gca().get_ylim() get lim in y axis\n",
    "\tplt.plot(lims,lims,alpha=0.75)\n",
    "\n",
    "\t#Create text for r_square and RMSE\n",
    "\tplt.tight_layout()\n",
    "\tplt.show()\n",
    "\tplt.close()\n",
    "\n",
    "input_interpolation_data = pd.read_csv(Filename_simulation_sampling,header=1)\n",
    "y = [[]for i in range(len(names))]\n",
    "for i in range(len(names)):\n",
    "\ty[i] = input_interpolation_data[names[i]].iloc[:num_samples_simulation]\n",
    "\tSVR_generator_k_fold(sample_values,y[i],k_fold,num,names[i])\n",
    "\n",
    "for i in range(len(names)):\n",
    "\tinput_interpolation_variables[len(variablenames)] = y[i]\n",
    "\tx_SVR = [[]for i in range(num_samples_simulation)]\n",
    "\tfor k in range(len(variablenames)):\n",
    "\t\tz = input_interpolation_data[variablenames[k]].tolist()\n",
    "\t\tfor j in range(num_samples_simulation):\n",
    "\t\t\tx_SVR[j].append(z[j])\n",
    "\tK_fold_SVR.fit(x_SVR,y[i])\n",
    "\tsamples_GSA_SVR[names[i]] = K_fold_SVR.predict(param_values_GSA.tolist())\n"
   ]
  },
  {
   "cell_type": "markdown",
   "metadata": {},
   "source": [
    "## Gaussian process regression"
   ]
  },
  {
   "cell_type": "code",
   "execution_count": 12,
   "metadata": {},
   "outputs": [
    {
     "data": {
      "image/png": "[encoded data removed]",
      "text/plain": [
       "<Figure size 432x288 with 1 Axes>"
      ]
     },
     "metadata": {},
     "output_type": "display_data"
    }
   ],
   "source": [
    "from sklearn.gaussian_process import GaussianProcessRegressor as GPR\n",
    "from sklearn.gaussian_process.kernels import RBF, ConstantKernel as C\n",
    "from sklearn.gaussian_process.kernels import DotProduct, WhiteKernel,RationalQuadratic\n",
    "kernel = RationalQuadratic(length_scale=1.0, alpha=1.0)\n",
    "samples_GSA_GPR={}\n",
    "#kernel = C(1.0, (1e-3, 1e3)) * RBF(10, (1e-2, 1e2))\n",
    "gp = GPR(kernel=kernel, alpha = 0, n_restarts_optimizer=9)\n",
    "\n",
    "def Gaussian_process_generator_k_fold(X,y,k_fold,num,names_result):\n",
    "\tGP_result=[]\n",
    "\t#Convert nd.array to list (Once the array is created, th size can't be changed)\n",
    "\tx_GP = [[]for i in range(num_samples_simulation)]\n",
    "\tfor i in range(len(variablenames)):\n",
    "\t\tz = X[variablenames[i]]\n",
    "\t\tfor j in range((num_samples_simulation)):\n",
    "\t\t\tx_GP[j].append(z[j])\n",
    "\tsubset_size = int(num_samples_simulation / k_fold)\n",
    "\tfor k in range(k_fold):\n",
    "\t\t#Get X train data\n",
    "\t\tX_train = x_GP[:k * subset_size] +  x_GP[(k + 1) * subset_size:]\n",
    "\t\tX_train = np.array(X_train,dtype='float')\n",
    "\n",
    "\t\t#Get y train data\n",
    "\t\ty = np.array(y,dtype='float').tolist()\n",
    "\t\ty_train = y[:k * subset_size] + y[(k + 1) * subset_size:]     \n",
    "\n",
    "\t\t#Get train GP model\n",
    "\t\ttrain_GP = gp.fit(X_train,y_train)\n",
    "\n",
    "\t\t#Get valid data\n",
    "\t\tX_valid =  x_GP[k * subset_size:][:subset_size]\n",
    "\t\tX_valid = np.array(X_valid,dtype='float')\n",
    "\n",
    "\t\t#Get valid result\n",
    "\t\tGP_valid_result = gp.predict(X_valid).tolist()\n",
    "\t\tGP_result = GP_result+ GP_valid_result\n",
    "    \n",
    "\tGP_result = np.array(GP_result,dtype='float')\n",
    "    \n",
    "\t#Calculate RMSE\n",
    "\trmse = round(np.sqrt(((GP_result-y)**2).mean()),3)\n",
    "\t#Calculate r square\n",
    "\ty_bar = np.sum(y)/len(y)  \t\t#Calculate the mean of y\n",
    "\tSSR = np.sum((GP_result-y_bar)**2)   # or sum([ (yihat - ybar)**2 for yihat in yhat])\n",
    "\tsstot = np.sum((y-y_bar)**2)    # or sum([ (yi - ybar)**2 for yi in y])\n",
    "\tr_square = round(SSR / sstot,3)\n",
    "\t\n",
    "\t#Plot scatter graph\n",
    "\tplt.figure('k-fold method')\n",
    "\tplt.scatter(y,GP_result,c='r',cmap=plt.cm.coolwarm,zorder=2,s=6)\n",
    "\tplt.xlabel('Samples values')\n",
    "\tplt.ylabel('GP values')\n",
    "\tplt.title('K-folds method for GP_'+str(names_result))\n",
    "\tr_square_patch = mpatches.Patch(color='red',label='r_square: %s'%r_square)\n",
    "\trmse_patch = mpatches.Patch(color='blue',label='RMSE: %s'%rmse )\n",
    "\tplt.legend(handles=[r_square_patch,rmse_patch],loc=0,fontsize = 'x-small')\n",
    "\t#Plot y=x \n",
    "\tlims = [np.min([plt.gca().get_xlim(),plt.gca().get_ylim()]),np.max([plt.gca().get_xlim(),plt.gca().get_ylim()])] #plt.gca().get_ylim() get lim in y axis\n",
    "\tplt.plot(lims,lims,alpha=0.75)\n",
    "\n",
    "\t#Create text for r_square and RMSE\n",
    "\tplt.tight_layout()\n",
    "\tplt.show()\n",
    "\tplt.close()\n",
    " \n",
    "y = [[]for i in range(len(names))]\n",
    "for i in range(len(names)):\n",
    "\ty[i] = input_interpolation_data[names[i]].iloc[:num_samples_simulation]\n",
    "\tGaussian_process_generator_k_fold(sample_values,y[i],k_fold,num,names[i])\n",
    "\n",
    "for i in range(len(names)):\n",
    "\tinput_interpolation_variables[len(variablenames)] = y[i]\n",
    "\tx_GP = [[]for i in range(num_samples_simulation)]\n",
    "\tfor k in range(len(variablenames)):\n",
    "\t\tz = input_interpolation_data[variablenames[k]].tolist()\n",
    "\t\tfor j in range(num_samples_simulation):\n",
    "\t\t\tx_GP[j].append(z[j])\n",
    "\tgp.fit(x_GP,y[i])\n",
    "\tsamples_GSA_GPR[names[i]] = gp.predict(param_values_GSA.tolist(),return_std=None)\n"
   ]
  },
  {
   "cell_type": "markdown",
   "metadata": {},
   "source": [
    "## Scipy rbf"
   ]
  },
  {
   "cell_type": "code",
   "execution_count": 58,
   "metadata": {},
   "outputs": [
    {
     "data": {
      "image/png": "[encoded data removed]",
      "text/plain": [
       "<Figure size 432x288 with 1 Axes>"
      ]
     },
     "metadata": {},
     "output_type": "display_data"
    },
    {
     "name": "stdout",
     "output_type": "stream",
     "text": [
      "[-15364707.32575989]\n"
     ]
    }
   ],
   "source": [
    "from scipy.interpolate import Rbf\n",
    "samples_GSA_RBF={}\n",
    "\n",
    "rbf_function = 'thin_plate' #Alternatives: 'multiquadric'(default),'inverse','gaussian','linear','cubic','quintic','thin_plate'\n",
    "\n",
    "def k_fold_generator(X, y, k_fold,num,names_result):\n",
    "    rbf_result=[]\n",
    "    #Convert nd.array to list (Once the array is created, th size can't be changed)\n",
    "    x_rbf = [[]for i in range(num_samples_simulation)]\n",
    "    for i in range(len(variablenames)):\n",
    "    \tz = X[variablenames[i]]\n",
    "    \tfor j in range((num_samples_simulation)):\n",
    "    \t\tx_rbf[j].append(z[j])\n",
    "    subset_size = int(num_samples_simulation / k_fold)\n",
    "    for k in range(k_fold):\n",
    "        rbf_train = [[] for i in range(num+1)]\n",
    "        #Get X train data\n",
    "        X_train = x_rbf[:k * subset_size] +  x_rbf[(k + 1) * subset_size:]\n",
    "        X_train = np.array(X_train,dtype='float')\n",
    "        \n",
    "        for i in range(num):\n",
    "        \trbf_train[i] = X_train[:,i].tolist()\n",
    "        #Get y train data\n",
    "        y = np.array(y,dtype='float').tolist()\n",
    "        y_train = y[:k * subset_size] + y[(k + 1) * subset_size:]     \n",
    "        rbf_train[num] = y_train\n",
    "        #Get train Rbf model\n",
    "        train_rbf = Rbf(*rbf_train,function=rbf_function)\n",
    "\n",
    "        #Get valid data\n",
    "        rbf_valid = [[] for i in range(num)]\n",
    "        X_valid =  x_rbf[k * subset_size:][:subset_size]\n",
    "        X_valid = np.array(X_valid,dtype='float')\n",
    "        for i in range(num):\n",
    "        \trbf_valid[i] = X_valid[:,i].tolist()  \n",
    "        #Get valid result\n",
    "        rbf_valid_result = train_rbf(*rbf_valid).tolist()\n",
    "        rbf_result = rbf_result+ rbf_valid_result\n",
    "    \n",
    "    rbf_result = np.array(rbf_result,dtype='float')\n",
    "\n",
    "    #Calculate RMSE\n",
    "    rmse = round(np.sqrt(((rbf_result-y)**2).mean()),3)\n",
    "    #Calculate r square\n",
    "    y_bar = np.sum(y)/len(y)  \t\t#Calculate the mean of y\n",
    "    SSR = np.sum((rbf_result-y_bar)**2)   # or sum([ (yihat - ybar)**2 for yihat in yhat])\n",
    "    sstot = np.sum((y-y_bar)**2)    # or sum([ (yi - ybar)**2 for yi in y])\n",
    "    r_square = round(SSR / sstot,3)\n",
    "\n",
    "    #Plot scatter graph\n",
    "    plt.figure('k-fold method')\n",
    "    plt.scatter(y,rbf_result,c='r',cmap=plt.cm.coolwarm,zorder=2,s=6)\n",
    "    plt.xlabel('Samples values')\n",
    "    plt.ylabel('Rbf values')\n",
    "    plt.title('K-folds method for Rbf_'+str(names_result))\n",
    "    r_square_patch = mpatches.Patch(color='red',label='r_square: %s'%r_square)\n",
    "    rmse_patch = mpatches.Patch(color='blue',label='RMSE: %s'%rmse )\n",
    "    plt.legend(handles=[r_square_patch,rmse_patch],loc=0,fontsize = 'x-small')\n",
    "    #Plot y=x \n",
    "    lims = [np.min([plt.gca().get_xlim(),plt.gca().get_ylim()]),np.max([plt.gca().get_xlim(),plt.gca().get_ylim()])] #plt.gca().get_ylim() get lim in y axis\n",
    "    plt.plot(lims,lims,alpha=0.75)\n",
    "\n",
    "    #Create text for r_square and RMSE\n",
    "    plt.tight_layout()\n",
    "    plt.show()\n",
    "    plt.close()\n",
    "\n",
    "\n",
    "y = [[]for i in range(len(names))]\n",
    "for i in range(len(names)):\n",
    "\ty[i] = input_interpolation_data[names[i]].iloc[:num_samples_simulation]\n",
    "\tk_fold_generator(sample_values,y[i],k_fold,num,names[i])\n",
    "\n",
    "for i in range(len(names)):\n",
    "\tinput_interpolation_variables[len(variablenames)] = y[i]\n",
    "\trbf_GSA_function = Rbf(*input_interpolation_variables)\n",
    "\tsamples_GSA_RBF[names[i]] =  rbf_GSA_function(*param_values)\n"
   ]
  },
  {
   "cell_type": "markdown",
   "metadata": {},
   "source": [
    "# GSA"
   ]
  },
  {
   "cell_type": "markdown",
   "metadata": {},
   "source": [
    "### Choose which surrogate model you want to use for generate GSA input"
   ]
  },
  {
   "cell_type": "code",
   "execution_count": 19,
   "metadata": {},
   "outputs": [
    {
     "name": "stdout",
     "output_type": "stream",
     "text": [
      "You have saved Surrogate model predict result\n"
     ]
    }
   ],
   "source": [
    "GSA_Surrogate_model= 'GPR' #'LP','SVR','GPR',LP=Linear regression, SVR= Support vector regression, GPR= Gaussian process regression\n",
    "if GSA_Surrogate_model == 'LP':\n",
    "    samples_GSA= samples_GSA_LP\n",
    "elif GSA_Surrogate_model == 'SVR':\n",
    "    samples_GSA= samples_GSA_SVR\n",
    "elif GSA_Surrogate_model == 'GPR':\n",
    "    samples_GSA= samples_GSA_GPR\n",
    "else:\n",
    "\tprint('You have to choose the right model')\n",
    "\n",
    "\n",
    "with open (Filename_fit_surface,'w',newline='') as f:\n",
    "\twriter = csv.writer(f)\n",
    "\twriter.writerow(samples_GSA.keys())\n",
    "\twriter.writerows(zip(*samples_GSA.values()))\n",
    "    \n",
    "print('You have saved Surrogate model predict result')"
   ]
  },
  {
   "cell_type": "markdown",
   "metadata": {},
   "source": [
    "### Sensitivity analysis"
   ]
  },
  {
   "cell_type": "code",
   "execution_count": 20,
   "metadata": {},
   "outputs": [
    {
     "name": "stdout",
     "output_type": "stream",
     "text": [
      "You have finished GSA\n"
     ]
    }
   ],
   "source": [
    "# Sensitivity analysis\n",
    "\n",
    "def GSA(names=names,saltelli_samples=num_samples_saltelli ):\n",
    "\t#Total data for all names\n",
    "\t#Read data\n",
    "\tinput_GSA_input_data = pd.read_csv(Filename_fit_surface,header=0)\n",
    "\t#Store names data in seperate list\n",
    "\tinput_GSA_names = [[] for i in range(len(names))]\n",
    "\tfor i in range(len(names)):\n",
    "\t\tinput_GSA_names[i] = input_GSA_input_data[names[i]].iloc[:num_samples_saltelli]\n",
    "\t\tinput_GSA_names[i] = np.array(input_GSA_names[i],dtype='float')\n",
    " \n",
    "# # #Sensitivity analysis\n",
    "\n",
    "\tGSA_conf_S1 = [[]for i in range(len(names))]\n",
    "\tGSA_conf_ST = [[]for i in range(len(names))]\n",
    "\tGSA_result_S1 = [[]for i in range(len(names))]\n",
    "\tGSA_result_ST = [[]for i in range(len(names))]\n",
    "\n",
    "\tsobol_analyze_result = [[]for i in range(len(names))]\n",
    "# \t#sobol_anlyze\n",
    "\tfor i in range(len(names)):\n",
    "\t\tif saltelli_second_order == False:\n",
    "\t\t\tsobol_analyze_result[i] = sobol.analyze(problem,input_GSA_names[i],calc_second_order=False)\n",
    "\t\telif saltelli_second_order == True:\n",
    "\t\t\tsobol_analyze_result[i] = sobol.analyze(problem,input_GSA_names[i],calc_second_order=True)\n",
    "\t\t#Get sensitivity analysis result,S1,ST,conf_S1,conf_ST\n",
    "\t\tGSA_result_S1[i] = sobol_analyze_result[i]['S1']\n",
    "\t\tGSA_result_ST[i] = sobol_analyze_result[i]['ST']\n",
    "\t\tGSA_conf_S1[i] = sobol_analyze_result[i]['S1_conf']\n",
    "\t\tGSA_conf_ST[i] = sobol_analyze_result[i]['ST_conf']\n",
    "    \n",
    "#Plot\n",
    "\n",
    "\tfor i in range(len(names)):\n",
    "\t\twidth=0.2\n",
    "\t\tplt.bar(np.arange(num),GSA_result_S1[i],width,yerr=GSA_conf_S1[i],capsize=7,align='center',alpha=0.5,color='red')\n",
    "\t\tplt.bar(np.arange(num)+0.3,GSA_result_ST[i],width,yerr=GSA_conf_ST[i],capsize=7,align='center',alpha=0.5,color='blue')\n",
    "\t\tplt.xticks(np.arange(num),variablenames)\n",
    "\t\tplt.xlabel('Variables')\n",
    "\t\tplt.ylabel('Sensitivity_values')\n",
    "\t\tplt.title('Sensitivity_analysis_'+names[i])\n",
    "\t\tS1_patch = mpatches.Patch(color='red',label='S1') #create legend\n",
    "\t\tST_patch = mpatches.Patch(color='blue',label='ST')\n",
    "\t\tplt.legend(handles=[S1_patch,ST_patch],loc=1,fontsize = 'x-small')\n",
    "\t\tplt.tight_layout()\n",
    "\t\t# graph name = names[i]\n",
    "\t\tplt.savefig(names[i])\n",
    "\t\tplt.close()\n",
    "\n",
    "#xlsx\n",
    "#Write worksheet\n",
    "\tworkbook = xlsxwriter.Workbook(File_result)\n",
    "\tfor i in range(len(names)):\t\n",
    "\t\tworksheet_title = workbook.add_worksheet(names[i])\n",
    "\t\tworksheet_title.write('A1',names[i])\n",
    "\t\tworksheet_title.write('A2','Variables')\n",
    "\t\tworksheet_title.write('B2','S1')\n",
    "\t\tworksheet_title.write('C2','Conf_S1')\n",
    "\t\tworksheet_title.write('D2','S1_Conf')\n",
    "\t\tworksheet_title.write('E2','ST')\n",
    "\t\tworksheet_title.write('F2','Conf_ST')\n",
    "\t\tworksheet_title.write('G2','ST_Conf')\n",
    "\t\tworksheet_title.set_column(0,0,25)\n",
    "\t\tworksheet_title.set_column(3,3,15)\n",
    "\t\tworksheet_title.set_column(6,6,15)\n",
    "\t\t#Write result(values) in the grid \n",
    "\t\tfor row in range(len(variablenames)) :\n",
    "\t\t\tworksheet_title.write('A'+str(row+3),variablenames[row])\n",
    "\t\t\tworksheet_title.write('B'+str(row+3),sobol_analyze_result[i]['S1'][row])\n",
    "\t\t\tworksheet_title.write('C'+str(row+3),sobol_analyze_result[i]['S1_conf'][row])\n",
    "\t\t\tworksheet_title.write_string('D'+str(row+3),str([round(sobol_analyze_result[i]['S1'][row]-sobol_analyze_result[i]['S1_conf'][row],3),round(sobol_analyze_result[i]['S1'][row]+sobol_analyze_result[i]['S1_conf'][row],3)]))\n",
    "\t\t\tworksheet_title.write('E'+str(row+3),sobol_analyze_result[i]['ST'][row])\n",
    "\t\t\tworksheet_title.write('F'+str(row+3),sobol_analyze_result[i]['ST_conf'][row])\n",
    "\t\t\tworksheet_title.write_string('G'+str(row+3),str([round(sobol_analyze_result[i]['ST'][row]-sobol_analyze_result[i]['ST_conf'][row],3),round(sobol_analyze_result[i]['ST'][row]+sobol_analyze_result[i]['ST_conf'][row],3)]))\n",
    "\t\t\tworksheet_title.insert_image('B'+str(6+len(variablenames)),names[i]+'.png',{'x_scale':1,'y_scale':1})\n",
    "\t\t\t#insert image\n",
    "\t#close the workbook\n",
    "\tworkbook.close()\n",
    "\t\t\t#remove the graph from folder\n",
    "\tfor i in range(len(names)):\n",
    "\t\tos.remove(names[i]+'.png')\n",
    "\n",
    "GSA = GSA()\n",
    "print('You have finished GSA')"
   ]
  },
  {
   "cell_type": "code",
   "execution_count": 49,
   "metadata": {},
   "outputs": [
    {
     "name": "stdout",
     "output_type": "stream",
     "text": [
      "[161.90265059 161.94567906 161.91649632 ... 161.80873312 161.80804036\n",
      " 162.30593156]\n"
     ]
    }
   ],
   "source": [
    "print(samples_GSA[names[0]])"
   ]
  },
  {
   "cell_type": "code",
   "execution_count": null,
   "metadata": {},
   "outputs": [],
   "source": []
  }
 ],
 "metadata": {
  "kernelspec": {
   "display_name": "Python 3",
   "language": "python",
   "name": "python3"
  },
  "language_info": {
   "codemirror_mode": {
    "name": "ipython",
    "version": 3
   },
   "file_extension": ".py",
   "mimetype": "text/x-python",
   "name": "python",
   "nbconvert_exporter": "python",
   "pygments_lexer": "ipython3",
   "version": "3.5.5"
  }
 },
 "nbformat": 4,
 "nbformat_minor": 2
}
